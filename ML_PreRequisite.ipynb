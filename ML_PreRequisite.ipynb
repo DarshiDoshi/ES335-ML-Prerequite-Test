{
  "nbformat": 4,
  "nbformat_minor": 0,
  "metadata": {
    "colab": {
      "provenance": []
    },
    "kernelspec": {
      "name": "python3",
      "display_name": "Python 3"
    },
    "language_info": {
      "name": "python"
    }
  },
  "cells": [
    {
      "cell_type": "markdown",
      "source": [
        "**Question 1:**\n",
        "\n",
        "Size of Matrices -> n * k and k * m\n",
        "\n",
        "Total Number of Elements in Final Matrix = n * m\n",
        "\n",
        "For an element C[i,j], C[i,j] = Σ(A[i,p] * B[p,j]) for all p = 0 to k-1. So, there are k multiplications and k-1 additions performed for 1 element.\n",
        "\n",
        "Therefore, total **n * m * k multiplications** and **n * m * (k-1) additions** are needed to perform a matrix multiplication between a (n, k) and (k, m) matrix"
      ],
      "metadata": {
        "id": "NaAHQPOYPF5a"
      }
    },
    {
      "cell_type": "markdown",
      "source": [
        "**Question 2:**"
      ],
      "metadata": {
        "id": "DLmISOwzo8ON"
      }
    },
    {
      "cell_type": "code",
      "source": [
        "import numpy as np\n",
        "import time"
      ],
      "metadata": {
        "id": "omwNyiJfqtnJ"
      },
      "execution_count": 49,
      "outputs": []
    },
    {
      "cell_type": "code",
      "source": [
        "A = [[1, 2, 3], [4, 5, 6]]         # 2*3 Matrix\n",
        "B = [[7, 8], [9, 10], [11, 12]]    # 3*2 Matrix\n",
        "\n",
        "def mm(A, B):\n",
        "    n = len(A)\n",
        "    k = len(A[0])\n",
        "    m = len(B[0])\n",
        "    C = [[0 for j in range(m)] for i in range(n)]\n",
        "    for i in range(n):\n",
        "        for j in range(m):\n",
        "            for l in range(k):\n",
        "                C[i][j] += A[i][l] * B[l][j]\n",
        "    return C\n",
        "\n",
        "start = time.time()\n",
        "ans1 = mm(A, B)\n",
        "end = time.time()\n",
        "ll_time = end - start\n",
        "\n",
        "print(\"Result using list of lists:\", ans1)\n",
        "print(\"Time:\", ll_time)\n",
        "\n",
        "###############################################################\n",
        "\n",
        "A_np = np.array(A)\n",
        "B_np = np.array(B)\n",
        "start = time.time()\n",
        "ans2 = np.dot(A_np, B_np)\n",
        "end = time.time()\n",
        "np_time = end - start\n",
        "\n",
        "print(\"Result using NumPy:\")\n",
        "print(ans2)\n",
        "print(\"Time:\",np_time)\n",
        "\n",
        "if (ll_time < np_time):\n",
        "  print(\"list  of lists method is faster.\")\n",
        "else:\n",
        "  print(\"NumPy is faster.\")"
      ],
      "metadata": {
        "colab": {
          "base_uri": "https://localhost:8080/"
        },
        "id": "tiZ9j1n-pHwC",
        "outputId": "0a24eacf-55e3-4bde-9b08-8d58d58fd902"
      },
      "execution_count": 50,
      "outputs": [
        {
          "output_type": "stream",
          "name": "stdout",
          "text": [
            "Result using list of lists: [[58, 64], [139, 154]]\n",
            "Time: 0.0005536079406738281\n",
            "Result using NumPy:\n",
            "[[ 58  64]\n",
            " [139 154]]\n",
            "Time: 0.0002014636993408203\n",
            "NumPy is faster.\n"
          ]
        }
      ]
    },
    {
      "cell_type": "markdown",
      "source": [
        "NumPy is usually faster than the list to lists method. It is mainly because of optimized operations in NumPy and its homogenous behaviour which make its better than normal Python code which has nested loops. Along with this, the functions in NumPy are written in C which again makes it run faster than pure Python Code.\n",
        "\n",
        "Here the list to list methods is faster because the arrays are small in size here. NumPy is advantageous when a relatively much bigger list is chosen."
      ],
      "metadata": {
        "id": "ndVbDguSs0CB"
      }
    },
    {
      "cell_type": "markdown",
      "source": [
        "**Question 3:**"
      ],
      "metadata": {
        "id": "KPz4Cmxu3hPh"
      }
    },
    {
      "cell_type": "markdown",
      "source": [
        "By the first method, we are iterating n elements for n/2 times which means that the time complexity for this is O($n^2$).\n",
        "\n",
        "Second method is to use a sorting algorithm and then extract the (n/2)th element. The average time for most sorting algorithms is O(nlog(n)) which is faster than the previous method."
      ],
      "metadata": {
        "id": "rD9Yatyv4TFt"
      }
    },
    {
      "cell_type": "code",
      "source": [
        "# METHOD 1\n",
        "def high_elem(arr):\n",
        "    arr2 = arr.copy()\n",
        "    n = len(arr2)\n",
        "    if n % 2 == 0:\n",
        "      for i in range(n//2):\n",
        "        max_val = max(arr2)\n",
        "        arr2.remove(max_val)\n",
        "      median = (max_val + max(arr2)) / 2\n",
        "    else:\n",
        "      for i in range(n // 2):\n",
        "        max_val = max(arr2)\n",
        "        arr2.remove(max_val)\n",
        "      median = max(arr2)\n",
        "    print(arr)\n",
        "    print(arr2)\n",
        "    return median\n",
        "\n",
        "# METHOD 2\n",
        "def median_sort(arr):\n",
        "    arr1 = sorted(arr)\n",
        "    n = len(arr1)\n",
        "    if n % 2 == 1:\n",
        "        return arr1[n // 2]\n",
        "    else:\n",
        "        return (arr1[(n // 2) - 1] + arr1[n // 2]) / 2\n",
        "\n",
        "arr = [3,6,1,7,4,2,5]\n",
        "\n",
        "# Using Method 1\n",
        "start = time.time()\n",
        "m1 = high_elem(arr)\n",
        "end = time.time()\n",
        "t1 = end - start\n",
        "\n",
        "# Using Method 2\n",
        "start = time.time()\n",
        "m2 = median_sort(arr)\n",
        "end = time.time()\n",
        "t2 = end - start\n",
        "\n",
        "# Using NumPy\n",
        "arr = np.array(arr)\n",
        "start = time.time()\n",
        "m3 = np.median(arr)\n",
        "end = time.time()\n",
        "t3 = end - start\n",
        "\n",
        "print(f\"Median using method 1:\", m1)\n",
        "print(f\"Time taken: {t1*1000} ms\")\n",
        "\n",
        "print(f\"Median using method 2:\", m2)\n",
        "print(f\"Time taken: {t2*1000} ms\")\n",
        "\n",
        "print(f\"Median using NumPy:\", m3)\n",
        "print(f\"Time taken: {t3*1000} ms\")"
      ],
      "metadata": {
        "id": "p_MxfTrrszpa",
        "colab": {
          "base_uri": "https://localhost:8080/"
        },
        "outputId": "6f7a0eb3-bbf9-489a-af1b-fa78a8bf363d"
      },
      "execution_count": 51,
      "outputs": [
        {
          "output_type": "stream",
          "name": "stdout",
          "text": [
            "[3, 6, 1, 7, 4, 2, 5]\n",
            "[3, 1, 4, 2]\n",
            "Median using method 1: 4\n",
            "Time taken: 1.390695571899414 ms\n",
            "Median using method 2: 4\n",
            "Time taken: 0.06175041198730469 ms\n",
            "Median using NumPy: 4.0\n",
            "Time taken: 0.44155120849609375 ms\n"
          ]
        }
      ]
    },
    {
      "cell_type": "markdown",
      "source": [
        "**Question 4:**\n",
        "Gradient of a function in x and y = (δf/δx , δf/δy)\n",
        "\n",
        "δf/δx = δ($x^2y + y^3sin(x)$)/δx = $2xy + y^3cos(x)$\n",
        "\n",
        "δf/δy = δ($x^2y + y^3sin(x)$)/δy = $x^2 + 3y^2sin(x)$\n",
        "\n",
        "Therefore, gradient = ($2xy + y^3cos(x)$ , $x^2 + 3y^2sin(x)$)"
      ],
      "metadata": {
        "id": "XG5MC4NSvhSp"
      }
    },
    {
      "cell_type": "markdown",
      "source": [
        "**Question 5:**"
      ],
      "metadata": {
        "id": "PXdIvs6mZEIi"
      }
    },
    {
      "cell_type": "code",
      "source": [
        "import jax\n",
        "import jax.numpy as jnp\n",
        "\n",
        "from jax import random\n",
        "from jax import grad,value_and_grad\n",
        "from jax.test_util import check_grads"
      ],
      "metadata": {
        "id": "rFku_JhMZIBP"
      },
      "execution_count": 52,
      "outputs": []
    },
    {
      "cell_type": "code",
      "source": [
        "# f(x) = x1^2 + x2^2\n",
        "def f(x,y):\n",
        "    return ((x**2)*y + (y**3)*jnp.sin(x))\n",
        "\n",
        "grad_f = jax.grad(f, argnums=(0, 1))\n",
        "\n",
        "# input = jnp.array([[0.0, 1.0], [1.0, 3.0], [4.9, 2.6]])\n",
        "# for i in input:\n",
        "#     print(\"JAX Gradient Function: \", grad_f(i))\n",
        "print(\"JAX Gradient Function: \", grad_f(1.0,2.0))"
      ],
      "metadata": {
        "colab": {
          "base_uri": "https://localhost:8080/"
        },
        "id": "4ldYkOVJZpuf",
        "outputId": "eaa57334-04b9-4586-815b-57ba466b14f1"
      },
      "execution_count": 53,
      "outputs": [
        {
          "output_type": "stream",
          "name": "stdout",
          "text": [
            "JAX Gradient Function:  (Array(8.322418, dtype=float32, weak_type=True), Array(11.0976515, dtype=float32, weak_type=True))\n"
          ]
        }
      ]
    },
    {
      "cell_type": "markdown",
      "source": [
        "**Question 6:**"
      ],
      "metadata": {
        "id": "BOvw-5w8f5in"
      }
    },
    {
      "cell_type": "code",
      "source": [
        "import sympy as sp\n",
        "from sympy import *\n",
        "\n",
        "x, y = sp.symbols('x y')\n",
        "f_x = sp.diff((x**2)*y + (y**3)*sp.sin(x), x)\n",
        "f_y = sp.diff((x**2)*y + (y**3)*sp.sin(x), y)\n",
        "print(\"Gradient of the function is:\")\n",
        "print(f\"({f_x}, {f_y})\")"
      ],
      "metadata": {
        "id": "zeL8qdLYf8F3",
        "colab": {
          "base_uri": "https://localhost:8080/"
        },
        "outputId": "aa48d1cb-3197-445b-9d45-4f8520918796"
      },
      "execution_count": 54,
      "outputs": [
        {
          "output_type": "stream",
          "name": "stdout",
          "text": [
            "Gradient of the function is:\n",
            "(2*x*y + y**3*cos(x), x**2 + 3*y**2*sin(x))\n"
          ]
        }
      ]
    },
    {
      "cell_type": "markdown",
      "source": [
        "**Question 7:**"
      ],
      "metadata": {
        "id": "feovGn4jsSsG"
      }
    },
    {
      "cell_type": "code",
      "source": [
        "student_records = {\n",
        "    2022: {\n",
        "        'Branch 1': {\n",
        "            1: {'Name': 'N', 'Marks': {'Maths': 100, 'English': 70}}\n",
        "        },\n",
        "        'Branch 2': {}\n",
        "    },\n",
        "    2023: {\n",
        "        'Branch 1': {},\n",
        "        'Branch 2': {}\n",
        "    },\n",
        "    2024: {\n",
        "        'Branch 1': {},\n",
        "        'Branch 2': {}\n",
        "    },\n",
        "    2025: {\n",
        "        'Branch 1': {},\n",
        "        'Branch 2': {}\n",
        "    }\n",
        "}"
      ],
      "metadata": {
        "id": "8o0Y9BxVsR37"
      },
      "execution_count": 55,
      "outputs": []
    },
    {
      "cell_type": "markdown",
      "source": [
        "**Question 8:**"
      ],
      "metadata": {
        "id": "G_X_Q4Y-5Wat"
      }
    },
    {
      "cell_type": "code",
      "source": [
        "class Database:\n",
        "    def __init__(self):\n",
        "        self.years = []\n",
        "    def add_year(self, year):\n",
        "        self.years.append(year)\n",
        "\n",
        "class Year:\n",
        "    def __init__(self, year):\n",
        "        self.year = year\n",
        "        self.branches = []\n",
        "\n",
        "class Branch:\n",
        "    def __init__(self, branch_name):\n",
        "        self.branch_name = branch_name\n",
        "        self.students = []\n",
        "\n",
        "class Student:\n",
        "    def __init__(self, roll_number, name, marks):\n",
        "        self.roll_number = roll_number\n",
        "        self.name = name\n",
        "        self.marks = marks\n",
        "'''\n",
        "student1 = Student(1, 'N', {'Maths': 100, 'English': 70})\n",
        "\n",
        "branch1 = Branch('Branch 1')\n",
        "branch1.students.append(student1)\n",
        "\n",
        "year2022 = Year(2022)\n",
        "year2022.branches.append(branch1)\n",
        "\n",
        "database = Database()\n",
        "database.add_year(year2022)\n",
        "'''"
      ],
      "metadata": {
        "colab": {
          "base_uri": "https://localhost:8080/",
          "height": 52
        },
        "id": "8izAcGT85WNk",
        "outputId": "bbc77305-221d-4e3a-836f-c88f4508a8f4"
      },
      "execution_count": 56,
      "outputs": [
        {
          "output_type": "execute_result",
          "data": {
            "text/plain": [
              "\"\\nstudent1 = Student(1, 'N', {'Maths': 100, 'English': 70})\\n\\nbranch1 = Branch('Branch 1')\\nbranch1.students.append(student1)\\n\\nyear2022 = Year(2022)\\nyear2022.branches.append(branch1)\\n\\ndatabase = Database()\\ndatabase.add_year(year2022)\\n\""
            ],
            "application/vnd.google.colaboratory.intrinsic+json": {
              "type": "string"
            }
          },
          "metadata": {},
          "execution_count": 56
        }
      ]
    },
    {
      "cell_type": "markdown",
      "source": [
        "**Question 9:**"
      ],
      "metadata": {
        "id": "ChywkJyzpzgA"
      }
    },
    {
      "cell_type": "code",
      "source": [
        "import matplotlib.pyplot as plt\n",
        "import math\n",
        "\n",
        "x = np.arange(0.5,100.5,0.5)\n",
        "y1 = x\n",
        "y2 = x**2\n",
        "y3 = (x**3)/100\n",
        "y4 = np.sin(x)\n",
        "y5 = np.sin(x) / x\n",
        "y6 = np.log(x)\n",
        "y7 = np.exp(x)\n",
        "# for i in range(1,8):\n",
        "#   plt.plot(x,y{i})\n",
        "figure, axis = plt.subplots(3, 3)\n",
        "axis[0,0].plot(x,y1)\n",
        "axis[0,1].plot(x,y2)\n",
        "axis[0,2].plot(x,y3)\n",
        "axis[1,0].plot(x,y4)\n",
        "axis[1,1].plot(x,y5)\n",
        "axis[1,2].plot(x,y6)\n",
        "axis[2,0].plot(x,y7)"
      ],
      "metadata": {
        "colab": {
          "base_uri": "https://localhost:8080/",
          "height": 447
        },
        "id": "Z62RoQd4p4b1",
        "outputId": "aee4a0f5-caea-42ee-8038-9c0b5c9b591f"
      },
      "execution_count": 57,
      "outputs": [
        {
          "output_type": "execute_result",
          "data": {
            "text/plain": [
              "[<matplotlib.lines.Line2D at 0x7896268950c0>]"
            ]
          },
          "metadata": {},
          "execution_count": 57
        },
        {
          "output_type": "display_data",
          "data": {
            "text/plain": [
              "<Figure size 640x480 with 9 Axes>"
            ],
            "image/png": "[encoded data removed]"
          },
          "metadata": {}
        }
      ]
    },
    {
      "cell_type": "markdown",
      "source": [
        "**Question 10:**"
      ],
      "metadata": {
        "id": "euIbIyYdklhU"
      }
    },
    {
      "cell_type": "code",
      "source": [
        "import pandas as pd\n",
        "\n",
        "mat = np.random.uniform(1, 2, size=(20, 5))\n",
        "data_frame = pd.DataFrame(mat, columns=['a', 'b', 'c', 'd', 'e'])\n",
        "\n",
        "col = data_frame.std().idxmax()\n",
        "row = data_frame.mean(axis=1).idxmin()\n",
        "\n",
        "print(\"DataFrame:\")\n",
        "print(data_frame)\n",
        "\n",
        "print(\"\\nColumn with the highest standard deviation:\", col)\n",
        "print(\"Row with the lowest mean:\", row)"
      ],
      "metadata": {
        "id": "5mkoEpVDqFqY",
        "colab": {
          "base_uri": "https://localhost:8080/"
        },
        "outputId": "b8cadf39-aa75-4490-e208-e34a9419c920"
      },
      "execution_count": 58,
      "outputs": [
        {
          "output_type": "stream",
          "name": "stdout",
          "text": [
            "DataFrame:\n",
            "           a         b         c         d         e\n",
            "0   1.331081  1.638872  1.446524  1.082651  1.204674\n",
            "1   1.126142  1.397103  1.907113  1.914821  1.391922\n",
            "2   1.339142  1.050349  1.597050  1.457817  1.162639\n",
            "3   1.864069  1.168882  1.671740  1.868920  1.562417\n",
            "4   1.805050  1.821541  1.114749  1.276608  1.003142\n",
            "5   1.312501  1.159565  1.505125  1.214559  1.177436\n",
            "6   1.613554  1.687142  1.337880  1.021953  1.433922\n",
            "7   1.093773  1.335978  1.275916  1.708999  1.676028\n",
            "8   1.697476  1.327660  1.777826  1.951370  1.727219\n",
            "9   1.035995  1.085974  1.535494  1.613035  1.304623\n",
            "10  1.414138  1.624189  1.955557  1.102751  1.632418\n",
            "11  1.018630  1.701668  1.365635  1.522149  1.640228\n",
            "12  1.996910  1.327786  1.574664  1.755408  1.697118\n",
            "13  1.649502  1.807103  1.965180  1.027155  1.662288\n",
            "14  1.554787  1.416085  1.351608  1.594729  1.214626\n",
            "15  1.385331  1.688861  1.345427  1.428879  1.976855\n",
            "16  1.652214  1.783890  1.259263  1.900633  1.832718\n",
            "17  1.889258  1.685670  1.500451  1.237861  1.023793\n",
            "18  1.024727  1.116373  1.382107  1.525460  1.405021\n",
            "19  1.906715  1.289469  1.455403  1.162661  1.035388\n",
            "\n",
            "Column with the highest standard deviation: a\n",
            "Row with the lowest mean: 5\n"
          ]
        }
      ]
    },
    {
      "cell_type": "markdown",
      "source": [
        "**Question 11:**"
      ],
      "metadata": {
        "id": "m9gZ479tteVi"
      }
    },
    {
      "cell_type": "code",
      "source": [
        "data_frame['f'] = data_frame[['a', 'b', 'c', 'd', 'e']].sum(axis=1)\n",
        "data_frame['g'] = np.where(data_frame['f'] < 8, 'LT8', 'GT8')\n",
        "cnt_lt8 = (data_frame['g'] == 'LT8').sum()\n",
        "lt8 = data_frame.loc[data_frame['g'] == 'LT8', 'f'].std()\n",
        "gt8 = data_frame.loc[data_frame['g'] == 'GT8', 'f'].std()\n",
        "\n",
        "print(\"New DataFrame:\")\n",
        "print(data_frame)\n",
        "print(\"\\nNumber of rows where the value in column 'g' is 'LT8':\", cnt_lt8)\n",
        "print(\"Standard deviation of column 'f' for 'LT8':\", lt8)\n",
        "print(\"Standard deviation of column 'f' for 'GT8':\", gt8)"
      ],
      "metadata": {
        "colab": {
          "base_uri": "https://localhost:8080/"
        },
        "id": "WUOFlavLlrN5",
        "outputId": "4c3e07b1-76ca-45a5-ea58-6d7f8319fdb1"
      },
      "execution_count": 59,
      "outputs": [
        {
          "output_type": "stream",
          "name": "stdout",
          "text": [
            "New DataFrame:\n",
            "           a         b         c         d         e         f    g\n",
            "0   1.331081  1.638872  1.446524  1.082651  1.204674  6.703803  LT8\n",
            "1   1.126142  1.397103  1.907113  1.914821  1.391922  7.737101  LT8\n",
            "2   1.339142  1.050349  1.597050  1.457817  1.162639  6.606998  LT8\n",
            "3   1.864069  1.168882  1.671740  1.868920  1.562417  8.136027  GT8\n",
            "4   1.805050  1.821541  1.114749  1.276608  1.003142  7.021091  LT8\n",
            "5   1.312501  1.159565  1.505125  1.214559  1.177436  6.369185  LT8\n",
            "6   1.613554  1.687142  1.337880  1.021953  1.433922  7.094450  LT8\n",
            "7   1.093773  1.335978  1.275916  1.708999  1.676028  7.090694  LT8\n",
            "8   1.697476  1.327660  1.777826  1.951370  1.727219  8.481550  GT8\n",
            "9   1.035995  1.085974  1.535494  1.613035  1.304623  6.575120  LT8\n",
            "10  1.414138  1.624189  1.955557  1.102751  1.632418  7.729054  LT8\n",
            "11  1.018630  1.701668  1.365635  1.522149  1.640228  7.248310  LT8\n",
            "12  1.996910  1.327786  1.574664  1.755408  1.697118  8.351887  GT8\n",
            "13  1.649502  1.807103  1.965180  1.027155  1.662288  8.111228  GT8\n",
            "14  1.554787  1.416085  1.351608  1.594729  1.214626  7.131836  LT8\n",
            "15  1.385331  1.688861  1.345427  1.428879  1.976855  7.825354  LT8\n",
            "16  1.652214  1.783890  1.259263  1.900633  1.832718  8.428718  GT8\n",
            "17  1.889258  1.685670  1.500451  1.237861  1.023793  7.337033  LT8\n",
            "18  1.024727  1.116373  1.382107  1.525460  1.405021  6.453689  LT8\n",
            "19  1.906715  1.289469  1.455403  1.162661  1.035388  6.849636  LT8\n",
            "\n",
            "Number of rows where the value in column 'g' is 'LT8': 15\n",
            "Standard deviation of column 'f' for 'LT8': 0.4681341138339442\n",
            "Standard deviation of column 'f' for 'GT8': 0.16935578218676633\n"
          ]
        }
      ]
    },
    {
      "cell_type": "markdown",
      "source": [
        "**Question 12:**"
      ],
      "metadata": {
        "id": "5jjOP_DQBD4Q"
      }
    },
    {
      "cell_type": "markdown",
      "source": [
        "Broadcasting is a feature in NumPy that allows arithmetic operations on arrays of different shapes and sizes without reshaping them.\n",
        "\n",
        "It is mostly done on arrays in pair wise manner and on element-by-element basis. It follows certain ground rules -\n",
        "1. Dimensions of both the arrays must be equal\n",
        "2. Or Dimension of one of them is 1.\n",
        "\n",
        "If either of the above two is followed then the two arrays are compatible and you can solve them arithmetically.\n",
        "\n",
        "Reference: https://numpy.org/doc/stable/user/basics.broadcasting.html"
      ],
      "metadata": {
        "id": "jnMi4pbEX9q3"
      }
    },
    {
      "cell_type": "code",
      "source": [
        "# Example 1\n",
        "a = np.array([[1.0, 2.0, 3.0],[4.0, 5.0, 6.0]])\n",
        "b = np.array([2.0, 2.0, 2.0]) # Same as b = 2\n",
        "\n",
        "print(\"a * b =\")\n",
        "print(a*b)\n",
        "\n",
        "# Example 2\n",
        "a = np.array([[1.0, 2.0, 3.0],[4.0, 5.0, 6.0]])\n",
        "b = np.array([2.0, 4.0, 3.0])\n",
        "\n",
        "print(\"\\na * b =\")\n",
        "print(a*b)\n",
        "\n",
        "# Example 3\n",
        "a = np.array([[1.0, 2.0, 3.0],[4.0, 5.0, 6.0]])\n",
        "b = np.array([[2.0, 4.0, 3.0],[7.0,1.0,5.0]])\n",
        "\n",
        "print(\"\\na * b =\")\n",
        "print(a*b)"
      ],
      "metadata": {
        "colab": {
          "base_uri": "https://localhost:8080/"
        },
        "id": "LGOGM0d0BDc7",
        "outputId": "32d3134e-1f92-4330-f171-1e214209437b"
      },
      "execution_count": 60,
      "outputs": [
        {
          "output_type": "stream",
          "name": "stdout",
          "text": [
            "a * b =\n",
            "[[ 2.  4.  6.]\n",
            " [ 8. 10. 12.]]\n",
            "\n",
            "a * b =\n",
            "[[ 2.  8.  9.]\n",
            " [ 8. 20. 18.]]\n",
            "\n",
            "a * b =\n",
            "[[ 2.  8.  9.]\n",
            " [28.  5. 30.]]\n"
          ]
        }
      ]
    },
    {
      "cell_type": "markdown",
      "source": [
        "**Question 13:**"
      ],
      "metadata": {
        "id": "Fd48pdhfJhq8"
      }
    },
    {
      "cell_type": "code",
      "source": [
        "arr = np.array([3,6,1,7,4,2,5])\n",
        "\n",
        "def min_idx(arr):\n",
        "  min = arr[0]\n",
        "  for i in range(1, len(arr)):\n",
        "    if arr[i] < min:\n",
        "      idx = i\n",
        "      min = arr[i]\n",
        "  return idx\n",
        "\n",
        "print(\"Minimum index using function:\", min_idx(arr))\n",
        "print(\"Minimum index using NumPy:\", np.argmin(arr))"
      ],
      "metadata": {
        "colab": {
          "base_uri": "https://localhost:8080/"
        },
        "id": "fjPh7tMMJiSr",
        "outputId": "ae7eb30d-6d9f-47eb-c1ff-c1cf9ef8e62e"
      },
      "execution_count": 61,
      "outputs": [
        {
          "output_type": "stream",
          "name": "stdout",
          "text": [
            "Minimum index using function: 2\n",
            "Minimum index using NumPy: 2\n"
          ]
        }
      ]
    }
  ]
}